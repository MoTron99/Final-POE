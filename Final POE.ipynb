{
 "cells": [
  {
   "cell_type": "code",
   "execution_count": null,
   "id": "aa29ca32",
   "metadata": {},
   "outputs": [],
   "source": [
    "# Mohammad Hamid Abubaker\n",
    "# Student Number: ST10120912\n",
    "# Module Code : PDAN8412\n",
    "# Final POE"
   ]
  },
  {
   "cell_type": "code",
   "execution_count": 1,
   "id": "bf248b08",
   "metadata": {},
   "outputs": [],
   "source": [
    "# Importing all the important libraries\n",
    "import os\n",
    "import matplotlib.pyplot as plt\n",
    "import numpy as np\n",
    "from PIL import Image\n",
    "from sklearn.model_selection import train_test_split\n",
    "from sklearn.preprocessing import LabelEncoder\n",
    "from tensorflow.keras.preprocessing.image import ImageDataGenerator\n",
    "from tensorflow.keras import layers\n",
    "from tensorflow.keras import models\n",
    "from tensorflow.keras import optimizers \n",
    "from keras.models import Sequential\n",
    "from keras.layers import Dense,Conv2D, Flatten,MaxPooling2D\n",
    "import pandas as pd\n",
    "import tensorflow as tf\n"
   ]
  },
  {
   "cell_type": "code",
   "execution_count": 2,
   "id": "dbd21802",
   "metadata": {},
   "outputs": [
    {
     "name": "stdout",
     "output_type": "stream",
     "text": [
      "C:\\Users\\saglo\\Hamid\\Final POE\n"
     ]
    }
   ],
   "source": [
    "# Printing current working directory and contents\n",
    "print(os.getcwd())"
   ]
  },
  {
   "cell_type": "code",
   "execution_count": 3,
   "id": "f5d132cc",
   "metadata": {},
   "outputs": [
    {
     "name": "stdout",
     "output_type": "stream",
     "text": [
      "['.ipynb_checkpoints', 'Chess dataset', 'Final POE.ipynb']\n"
     ]
    }
   ],
   "source": [
    "# Printing current working directory and contents\n",
    "print(os.listdir())"
   ]
  },
  {
   "cell_type": "code",
   "execution_count": 60,
   "id": "77369d7c",
   "metadata": {},
   "outputs": [],
   "source": [
    "# Setting up directory paths\n",
    "NOTEBOOK_DIR = os.path.abspath('')\n",
    "SCRIPT_DIR = os.path.join(NOTEBOOK_DIR, 'Final POE')\n",
    "\n",
    "DATASET_PATH = os.path.join(SCRIPT_DIR, '..', 'Chess dataset')\n",
    "TRAIN_PATH = os.path.join(DATASET_PATH, 'mytrain')\n",
    "TEST_PATH = os.path.join(DATASET_PATH, 'mytest')"
   ]
  },
  {
   "cell_type": "code",
   "execution_count": 61,
   "id": "52abc572",
   "metadata": {},
   "outputs": [
    {
     "name": "stdout",
     "output_type": "stream",
     "text": [
      "The path C:\\Users\\saglo\\Hamid\\Final POE\\Final POE\\..\\Chess dataset\\mytrain exists.\n",
      "First 10 items in the directory: ['1b1b1b2-3r4-1rK4b-R7-R2R1k2-2Bp4-2P5-2r5.jpeg', '1B1B1K2-3p1N2-6k1-R7-5P2-4q3-7R-1B6.jpeg', '1b1B1K2-R2B4-7P-3b4-3R2B1-8-3R4-4Qk2.jpeg', '1b1b1n2-1K1RN1b1-3pbN2-8-4q1k1-4P3-8-2n3N1.jpeg', '1B1B1N2-1r6-n2R2k1-7b-1B6-8-8-Kn6.jpeg', '1B1b1Nn1-8-3p4-2K5-8-B5P1-p7-4k1nb.jpeg', '1B1b1R2-1b2R3-p7-3N4-4b3-n1BP1k2-2K5-6q1.jpeg', '1B1b1R2-R4r2-3Q4-6p1-3B1R1q-3Knk2-1P6-8.jpeg', '1B1b1Rr1-1p1n4-8-N1K3N1-3n4-P2k4-3p4-2N5.jpeg', '1B1b2b1-5P2-2n5-1B2P3-5p2-6n1-1B4k1-2RRK3.jpeg']\n"
     ]
    }
   ],
   "source": [
    "# Checking if directories exist and display first 10 Items\n",
    "if os.path.exists(TRAIN_PATH):\n",
    "    print(f\"The path {TRAIN_PATH} exists.\")\n",
    "    \n",
    "   \n",
    "    contents = os.listdir(TRAIN_PATH)[:10]\n",
    "    print(f\"First 10 items in the directory: {contents}\")\n",
    "else:\n",
    "    print(f\"The path {TRAIN_PATH} does not exist.\")"
   ]
  },
  {
   "cell_type": "code",
   "execution_count": 62,
   "id": "e41bcf71",
   "metadata": {},
   "outputs": [
    {
     "name": "stdout",
     "output_type": "stream",
     "text": [
      "The path C:\\Users\\saglo\\Hamid\\Final POE\\Final POE\\..\\Chess dataset\\mytest exists.\n",
      "First 10 items in the directory: ['1B1B2K1-1B6-5N2-6k1-8-8-8-4nq2.jpeg', '1b1b2K1-1r6-2P4p-1b1p4-4N1k1-3B2Q1-2q5-2N2q2.jpeg', '1b1b2k1-K2B1q2-R3B2p-3b1NR1-5p2-3N4-8-5N2.jpeg', '1B1B3R-8-1b2k3-8-2n5-1rK5-b7-8.jpeg', '1b1b4-1N5r-1P1p3B-8-3KP3-3P2k1-3PB3-1N6.jpeg', '1b1B4-1p4P1-5k2-1n3q2-8-2B5-1K3rR1-2q5.jpeg', '1b1B4-1P6-2B5-3r2kN-2r4P-8-5K2-3B4.jpeg', '1B1b4-1Q2b3-8-6rn-3NK3-7k-2r5-8.jpeg', '1b1B4-2b3PK-7P-8-1BP4k-4P3-8-8.jpeg', '1b1B4-3b1PPn-8-6b1-n2R3r-2K5-8-3Rk3.jpeg']\n"
     ]
    }
   ],
   "source": [
    "# Checking if directories exist and display first 10 Items\n",
    "if os.path.exists(TEST_PATH):\n",
    "    print(f\"The path {TEST_PATH} exists.\")\n",
    "    \n",
    "   \n",
    "    contents = os.listdir(TEST_PATH)[:10]\n",
    "    print(f\"First 10 items in the directory: {contents}\")\n",
    "else:\n",
    "    print(f\"The path {TEST_PATH} does not exist.\")"
   ]
  },
  {
   "cell_type": "code",
   "execution_count": 63,
   "id": "76877595",
   "metadata": {
    "scrolled": true
   },
   "outputs": [
    {
     "name": "stdout",
     "output_type": "stream",
     "text": [
      "Found 64000 images belonging to 8 classes.\n",
      "Found 4000 images belonging to 8 classes.\n"
     ]
    }
   ],
   "source": [
    "# Function to filter files in a directory based on extension\n",
    "def filter_files(directory, extension):\n",
    "    return [f for f in os.listdir(directory) if f.lower().endswith(f'.{extension}')]\n",
    "# List of classes for Image classification\n",
    "classes=['c', 'h', 'e', 's', '.', 'j', 'p', 'g']\n",
    "\n",
    "# Generating file list for training and testing\n",
    "train_files = filter_files(TRAIN_PATH, 'jpg')\n",
    "test_files = filter_files(TEST_PATH, 'jpg')\n",
    "\n",
    "# creating ImageDataGenerator for data augmentation and loading images \n",
    "datagen = ImageDataGenerator(rescale=1./255,validation_split=0.2)\n",
    "\n",
    "training_set = datagen.flow_from_directory(\n",
    "    directory=TRAIN_PATH,\n",
    "    target_size=(224, 224),\n",
    "    batch_size=32,\n",
    "    class_mode='categorical',\n",
    "    subset = 'training',\n",
    "    shuffle=True,\n",
    "    seed=42,\n",
    "    classes=classes\n",
    ")\n",
    "\n",
    "test_set = datagen.flow_from_directory(\n",
    "    directory=TEST_PATH,\n",
    "    target_size=(224, 224),\n",
    "    batch_size=32,\n",
    "    class_mode='categorical',\n",
    "    subset = 'validation',\n",
    "    shuffle=True,\n",
    "    seed=42,\n",
    "    classes=classes\n",
    ")"
   ]
  },
  {
   "cell_type": "code",
   "execution_count": 69,
   "id": "fe4e1306",
   "metadata": {},
   "outputs": [],
   "source": [
    "import os\n",
    "from tensorflow.keras.models import Sequential\n",
    "from tensorflow.keras.layers import Conv2D, MaxPooling2D, Flatten, Dense\n",
    "from tensorflow.keras.preprocessing.image import ImageDataGenerator\n",
    "import matplotlib.pyplot as plt\n",
    "from tqdm import tqdm\n",
    "import time\n",
    "\n",
    "def filter_files(directory, extension):\n",
    "    return [f for f in os.listdir(directory) if f.lower().endswith(f'.{extension}')]\n",
    "\n",
    "def create_data_generators(TRAIN_PATH, TEST_PATH, classes, target_size=(224, 224), batch_size=32, validation_split=0.2, seed=42):\n",
    "    train_files = filter_files(TRAIN_PATH, 'jpg')\n",
    "    test_files = filter_files(TEST_PATH, 'jpg')\n",
    "\n",
    "    datagen = ImageDataGenerator(rescale=1./255, validation_split=validation_split)\n",
    "\n",
    "    training_set = datagen.flow_from_directory(\n",
    "        directory=TRAIN_PATH,\n",
    "        target_size=target_size,\n",
    "        batch_size=batch_size,\n",
    "        class_mode='categorical',\n",
    "        subset='training',\n",
    "        shuffle=True,\n",
    "        seed=seed,\n",
    "        classes=classes\n",
    "    )\n",
    "\n",
    "    test_set = datagen.flow_from_directory(\n",
    "        directory=TEST_PATH,\n",
    "        target_size=target_size,\n",
    "        batch_size=batch_size,\n",
    "        class_mode='categorical',\n",
    "        subset='validation',\n",
    "        shuffle=True,\n",
    "        seed=seed,\n",
    "        classes=classes\n",
    "    )\n",
    "\n",
    "    return training_set, test_set"
   ]
  },
  {
   "cell_type": "code",
   "execution_count": 70,
   "id": "458266b6",
   "metadata": {},
   "outputs": [],
   "source": [
    "def create_and_train_model(training_set, test_set, num_epochs):\n",
    "    # Creating the model\n",
    "    model = Sequential()\n",
    "    model.add(Conv2D(filters=5, kernel_size=2, padding='same', activation='relu', input_shape=(224, 224, 3)))\n",
    "    model.add(MaxPooling2D(pool_size=2))\n",
    "    model.add(Conv2D(filters=5, kernel_size=2, padding='same', activation='relu'))\n",
    "    model.add(MaxPooling2D(pool_size=2))\n",
    "    model.add(Flatten())\n",
    "    model.add(Dense(8, activation='softmax'))\n",
    "    model.compile(loss='categorical_crossentropy', optimizer='adam', metrics=['accuracy'])\n",
    "\n",
    "    # Specifing the number of training and validation steps\n",
    "    train_steps = len(training_set)\n",
    "    val_steps = len(test_set)\n",
    "\n",
    "    # Training the model using the fit method\n",
    "    history = model.fit(\n",
    "        training_set,\n",
    "        steps_per_epoch=train_steps,\n",
    "        epochs=num_epochs,\n",
    "        validation_data=test_set,\n",
    "        validation_steps=val_steps,\n",
    "        verbose=1\n",
    "    )\n",
    "\n",
    "    return model, history"
   ]
  },
  {
   "cell_type": "code",
   "execution_count": 71,
   "id": "7d52b7f5",
   "metadata": {},
   "outputs": [],
   "source": [
    "def evaluate_model(model, test_set):\n",
    "    # Evaluating the model on the test set\n",
    "    evaluation = model.evaluate(test_set)\n",
    "    print(f\"\\nTest Accuracy: {evaluation[1] * 100:.2f}%\")\n",
    "    print(f\"Test Loss: {evaluation[0]:.4f}\")\n",
    "\n",
    "def plot_metrics(epochs, train_accuracy, val_accuracy, train_loss, val_loss):\n",
    "    plt.figure(figsize=(12, 4))\n",
    "\n",
    "    # Plot Accuracy Display\n",
    "    plt.subplot(1, 2, 1)\n",
    "    plt.plot(epochs, train_accuracy, label='Training Accuracy')\n",
    "    plt.plot(epochs, val_accuracy, label='Validation Accuracy')\n",
    "    plt.title('Training and Validation Accuracy')\n",
    "    plt.xlabel('Epochs')\n",
    "    plt.ylabel('Accuracy')\n",
    "    plt.legend()\n",
    "\n",
    "    # Plot Loss Display\n",
    "    plt.subplot(1, 2, 2)\n",
    "    plt.plot(epochs, train_loss, label='Training Loss')\n",
    "    plt.plot(epochs, val_loss, label='Validation Loss')\n",
    "    plt.title('Training and Validation Loss')\n",
    "    plt.xlabel('Epochs')\n",
    "    plt.ylabel('Loss')\n",
    "    plt.legend()\n",
    "\n",
    "    plt.tight_layout()\n",
    "    plt.show()"
   ]
  },
  {
   "cell_type": "markdown",
   "id": "e3a2a461",
   "metadata": {},
   "source": [
    "# Pipeline"
   ]
  },
  {
   "cell_type": "code",
   "execution_count": 72,
   "id": "da9dea9f",
   "metadata": {},
   "outputs": [],
   "source": [
    "def run_pipeline(train_path, test_path, classes, num_epochs=5):\n",
    "    training_set, test_set = create_data_generators(train_path, test_path, classes)\n",
    "    model, history = create_and_train_model(training_set, test_set, num_epochs)\n",
    "\n",
    "    # Extracting metrics from the training history\n",
    "    epochs = range(1, num_epochs + 1)\n",
    "    train_accuracy = history.history['accuracy']\n",
    "    val_accuracy = history.history['val_accuracy']\n",
    "    train_loss = history.history['loss']\n",
    "    val_loss = history.history['val_loss']\n",
    "\n",
    "    # Plotting the metrics\n",
    "    plot_metrics(epochs, train_accuracy, val_accuracy, train_loss, val_loss)\n",
    "\n",
    "    # Evaluating the model on the test set\n",
    "    evaluate_model(model, test_set)\n",
    "\n",
    "    return model"
   ]
  },
  {
   "cell_type": "markdown",
   "id": "07ddd3b0",
   "metadata": {},
   "source": [
    "# Results"
   ]
  },
  {
   "cell_type": "code",
   "execution_count": 73,
   "id": "48498816",
   "metadata": {},
   "outputs": [
    {
     "name": "stdout",
     "output_type": "stream",
     "text": [
      "Found 64000 images belonging to 8 classes.\n",
      "Found 4000 images belonging to 8 classes.\n",
      "Epoch 1/5\n",
      "2000/2000 [==============================] - 1397s 698ms/step - loss: 0.0012 - accuracy: 0.9995 - val_loss: 0.0000e+00 - val_accuracy: 1.0000\n",
      "Epoch 2/5\n",
      "2000/2000 [==============================] - 419s 210ms/step - loss: 0.0000e+00 - accuracy: 1.0000 - val_loss: 0.0000e+00 - val_accuracy: 1.0000\n",
      "Epoch 3/5\n",
      "2000/2000 [==============================] - 417s 208ms/step - loss: 0.0000e+00 - accuracy: 1.0000 - val_loss: 0.0000e+00 - val_accuracy: 1.0000\n",
      "Epoch 4/5\n",
      "2000/2000 [==============================] - 417s 209ms/step - loss: 0.0000e+00 - accuracy: 1.0000 - val_loss: 0.0000e+00 - val_accuracy: 1.0000\n",
      "Epoch 5/5\n",
      "2000/2000 [==============================] - 416s 208ms/step - loss: 0.0000e+00 - accuracy: 1.0000 - val_loss: 0.0000e+00 - val_accuracy: 1.0000\n"
     ]
    },
    {
     "data": {
      "image/png": "[encoded data removed]",
      "text/plain": [
       "<Figure size 1200x400 with 2 Axes>"
      ]
     },
     "metadata": {},
     "output_type": "display_data"
    },
    {
     "name": "stdout",
     "output_type": "stream",
     "text": [
      "125/125 [==============================] - 16s 130ms/step - loss: 0.0000e+00 - accuracy: 1.0000\n",
      "\n",
      "Test Accuracy: 100.00%\n",
      "Test Loss: 0.0000\n"
     ]
    }
   ],
   "source": [
    "\n",
    "# Setting my paths and classes\n",
    "CLASSES = ['c', 'h', 'e', 's', '.', 'j', 'p', 'g']\n",
    "\n",
    "# Running the pipeline---\n",
    "trained_model = run_pipeline(TRAIN_PATH, TEST_PATH, CLASSES, num_epochs=5)"
   ]
  },
  {
   "cell_type": "code",
   "execution_count": null,
   "id": "e2e448f1",
   "metadata": {},
   "outputs": [],
   "source": []
  }
 ],
 "metadata": {
  "kernelspec": {
   "display_name": "Python 3 (ipykernel)",
   "language": "python",
   "name": "python3"
  },
  "language_info": {
   "codemirror_mode": {
    "name": "ipython",
    "version": 3
   },
   "file_extension": ".py",
   "mimetype": "text/x-python",
   "name": "python",
   "nbconvert_exporter": "python",
   "pygments_lexer": "ipython3",
   "version": "3.11.4"
  }
 },
 "nbformat": 4,
 "nbformat_minor": 5
}
